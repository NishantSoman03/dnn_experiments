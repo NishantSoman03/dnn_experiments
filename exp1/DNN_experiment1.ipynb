{
 "cells": [
  {
   "cell_type": "code",
   "execution_count": 1,
   "id": "bb4e96d4-d0e6-4045-bec0-907223312b99",
   "metadata": {},
   "outputs": [],
   "source": [
    "import numpy as np\n",
    "import matplotlib.pyplot as plt"
   ]
  },
  {
   "cell_type": "code",
   "execution_count": null,
   "id": "195d4d4a",
   "metadata": {},
   "outputs": [
    {
     "name": "stdout",
     "output_type": "stream",
     "text": [
      "Enter x1 : 1\n",
      "Enter x2 : 1\n",
      "Do you want to add weights manually?  (y/n)\n",
      "y\n",
      "Enter weights\n",
      "w1 : 1\n",
      "w2 : 1\n",
      "Activation Function :  [0.0, 1.0, 1.0, 2.0]\n",
      "1. AND gate\n",
      "2. OR gate\n",
      "3. NAND gate\n",
      "4. NOR gate\n",
      " press x to end\n",
      "\n",
      "\n",
      "Enter which Gate : 1\n",
      "The output of AND gate is 1\n",
      "Enter which Gate : 2\n",
      "The output of OR gate is 1\n"
     ]
    }
   ],
   "source": [
    "while(1):\n",
    "    x1=int(input('Enter x1 : '))\n",
    "    x2=int(input('Enter x2 : '))\n",
    "    if (x1 in (0,1) and x2 in (0,1)):\n",
    "        break\n",
    "    print('valid inputs')\n",
    "    print('Provide values as 0 or 1\\n\\n')\n",
    "    print('Try Again')\n",
    "i = input('Do you want to add weights manually?  (y/n)\\n')\n",
    "if i=='n':\n",
    "    w1=1\n",
    "    w2=1\n",
    "else:\n",
    "    print(\"Enter weights\")\n",
    "    w1 = float(input('w1 : '))\n",
    "    w2 = float(input('w2 : '))\n",
    "\n",
    "def out_samples():\n",
    "    r = [(0,0),(0,1),(1,0),(1,1)]\n",
    "    act=[0,0,0,0]\n",
    "    for i in range(len(r)):\n",
    "        act[i] =r[i][0]*w1+r[i][1]*w2\n",
    "    return act\n",
    "r = out_samples()\n",
    "print('Activation Function : ',r)\n",
    "\n",
    "act = x1*w1+x2*w2\n",
    "\n",
    "print('1. AND gate\\n2. OR gate\\n3. NAND gate\\n4. NOR gate\\n press x to end\\n\\n')\n",
    "while(1):\n",
    "    a=input('Enter which Gate : ')\n",
    "    if a=='x'or a=='X':\n",
    "        break\n",
    "    match int(a):\n",
    "        case 1:\n",
    "            th = r[3]\n",
    "            if act>=th:\n",
    "                y=1\n",
    "            else:\n",
    "                y=0\n",
    "            print(f'The output of AND gate is {y}')\n",
    "        case 2:\n",
    "            th = r[1]\n",
    "            if act>=th:\n",
    "                y=1\n",
    "            else:\n",
    "                y=0\n",
    "            print(f'The output of OR gate is {y}')\n",
    "        case 3:\n",
    "            th = r[3]\n",
    "            if act>=th:\n",
    "                y=0\n",
    "            else:\n",
    "                y=1\n",
    "            print(f'The output of NAND gate is {y}')\n",
    "        case 4:\n",
    "            th = r[1]\n",
    "            if act>=th:\n",
    "                y=0\n",
    "            else:\n",
    "                y=1\n",
    "            print(f'The output of NOR gate is {y}')\n"
   ]
  },
  {
   "cell_type": "code",
   "execution_count": null,
   "id": "79141e65",
   "metadata": {},
   "outputs": [],
   "source": []
  }
 ],
 "metadata": {
  "kernelspec": {
   "display_name": "Python 3 (ipykernel)",
   "language": "python",
   "name": "python3"
  },
  "language_info": {
   "codemirror_mode": {
    "name": "ipython",
    "version": 3
   },
   "file_extension": ".py",
   "mimetype": "text/x-python",
   "name": "python",
   "nbconvert_exporter": "python",
   "pygments_lexer": "ipython3",
   "version": "3.10.2"
  }
 },
 "nbformat": 4,
 "nbformat_minor": 5
}
