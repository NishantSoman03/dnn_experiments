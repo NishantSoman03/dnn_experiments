{
 "cells": [
  {
   "cell_type": "code",
   "execution_count": 1,
   "id": "168e7bcd-bd9a-4835-af5b-c49b1acfa183",
   "metadata": {},
   "outputs": [],
   "source": [
    "import numpy as np\n",
    "import matplotlib.pyplot as plt"
   ]
  },
  {
   "cell_type": "code",
   "execution_count": 2,
   "id": "f22de92f-7a1e-4639-92a3-b46827504d22",
   "metadata": {},
   "outputs": [],
   "source": [
    "# Sigmoid Activation Function\n",
    "def sigmoid(x):\n",
    "    return 1 / (1 + np.exp(-x))\n",
    "\n",
    "# Derivative of Sigmoid Function\n",
    "def sigmoid_derivative(x):\n",
    "    return x * (1 - x)\n",
    "\n",
    "# Function to calculate the transpose of a matrix\n",
    "def transpose_matrix(matrix):\n",
    "    return np.transpose(matrix)"
   ]
  },
  {
   "cell_type": "code",
   "execution_count": 3,
   "id": "d7fbc1e6-3122-498d-a5cd-38215ca677a9",
   "metadata": {},
   "outputs": [],
   "source": [
    "# Input values matrix\n",
    "X = np.array([[0.4, -0.7],\n",
    "              [0.3, -0.5],\n",
    "              [0.6, 0.1],\n",
    "              [0.2, 0.4]])\n",
    "\n",
    "# Target values\n",
    "yt = np.array([[0.1],\n",
    "               [0.05],\n",
    "               [0.3],\n",
    "               [0.25]])\n",
    "\n",
    "# Initialize weights\n",
    "V = np.array([[0.1, 0.4],\n",
    "              [-0.2, 0.2]])\n",
    "W = np.array([[0.2],\n",
    "              [0.5]])\n",
    "\n",
    "# Learning rate\n",
    "alpha = 0.1"
   ]
  },
  {
   "cell_type": "code",
   "execution_count": 4,
   "id": "11eb5851-2056-43f8-9fc8-0e37e85b908e",
   "metadata": {},
   "outputs": [],
   "source": [
    "# Forward Propagation\n",
    "def forward_propagation(X, V, W):\n",
    "    # Calculate the input to the hidden layer\n",
    "    Zh = np.dot(X, V)\n",
    "    H = sigmoid(Zh)\n",
    "\n",
    "    # Calculate the input to the output layer\n",
    "    Zo = np.dot(H, W)\n",
    "    O = sigmoid(Zo)\n",
    "    \n",
    "    return Zh, H, Zo, O\n",
    "\n",
    "# Backward Propagation\n",
    "def backward_propagation(X, H, O, W, Zh, Zo, yt, V):\n",
    "    # Calculate delta for the output layer\n",
    "    del_k = (O - yt) * sigmoid_derivative(O)\n",
    "    \n",
    "    # Calculate delta for the hidden layer\n",
    "    del_j = np.dot(del_k, W.T) * sigmoid_derivative(H)\n",
    "    \n",
    "    # Update weights\n",
    "    W -= alpha * np.dot(H.T, del_k)\n",
    "    V -= alpha * np.dot(X.T, del_j)\n",
    "    \n",
    "    return V, W"
   ]
  },
  {
   "cell_type": "code",
   "execution_count": 5,
   "id": "daa6bdeb-9d3f-4a61-9eff-77e436752e2c",
   "metadata": {},
   "outputs": [],
   "source": [
    "# Train the neural network\n",
    "epochs = 10000\n",
    "loss = []\n",
    "\n",
    "for epoch in range(epochs):\n",
    "    # Forward propagation\n",
    "    Zh, H, Zo, O = forward_propagation(X, V, W)\n",
    "    \n",
    "    # Backward propagation\n",
    "    V, W = backward_propagation(X, H, O, W, Zh, Zo, yt, V)\n",
    "    \n",
    "    # Calculate the loss\n",
    "    loss.append(np.mean(np.square(O - yt)))"
   ]
  },
  {
   "cell_type": "code",
   "execution_count": 6,
   "id": "783126d3-d09b-4134-b2ca-c167a5b47414",
   "metadata": {},
   "outputs": [
    {
     "data": {
      "image/png": "[encoded data removed]",
      "text/plain": [
       "<Figure size 640x480 with 1 Axes>"
      ]
     },
     "metadata": {},
     "output_type": "display_data"
    }
   ],
   "source": [
    "# Plotting the loss\n",
    "plt.plot(loss)\n",
    "plt.xlabel('Epochs')\n",
    "plt.ylabel('Loss')\n",
    "plt.title('Training Loss')\n",
    "plt.show()"
   ]
  },
  {
   "cell_type": "code",
   "execution_count": 7,
   "id": "cc95b412-3aeb-4df2-bd4a-ae8623deeb68",
   "metadata": {},
   "outputs": [
    {
     "name": "stdout",
     "output_type": "stream",
     "text": [
      "Final V:\n",
      "[[-1.64904396 -0.49409849]\n",
      " [-2.17861999 -0.96865858]]\n",
      "Final W:\n",
      "[[-2.68753435]\n",
      " [-0.95837628]]\n"
     ]
    }
   ],
   "source": [
    "# Print final weights\n",
    "print(\"Final V:\")\n",
    "print(V)\n",
    "print(\"Final W:\")\n",
    "print(W)"
   ]
  }
 ],
 "metadata": {
  "kernelspec": {
   "display_name": "Python 3 (ipykernel)",
   "language": "python",
   "name": "python3"
  },
  "language_info": {
   "codemirror_mode": {
    "name": "ipython",
    "version": 3
   },
   "file_extension": ".py",
   "mimetype": "text/x-python",
   "name": "python",
   "nbconvert_exporter": "python",
   "pygments_lexer": "ipython3",
   "version": "3.12.3"
  }
 },
 "nbformat": 4,
 "nbformat_minor": 5
}
