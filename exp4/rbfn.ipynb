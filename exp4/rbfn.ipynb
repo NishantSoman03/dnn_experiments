{
 "cells": [
  {
   "cell_type": "markdown",
   "id": "4a96f487-ac89-41ac-a14b-a5b6889e1728",
   "metadata": {},
   "source": [
    "#### Name : Nishant Soman\n",
    "#### Roll : 1\n",
    "#### Prn : 1032210233\n",
    "#### Batch : A-4\n",
    "#### Subject : Deep Neural Networks\n",
    "#### Exp No : 4"
   ]
  },
  {
   "cell_type": "code",
   "execution_count": 1,
   "id": "4fdc7b57-4e5c-4d16-b1f1-682c721b3d19",
   "metadata": {},
   "outputs": [],
   "source": [
    "import numpy as np\n",
    "import matplotlib.pyplot as plt"
   ]
  },
  {
   "cell_type": "code",
   "execution_count": 2,
   "id": "05c8e4b8-e71d-45cc-ae4f-a7084f74ca69",
   "metadata": {},
   "outputs": [],
   "source": [
    "# Sigmoid Activation Function\n",
    "def sigmoid(x):\n",
    "    return 1 / (1 + np.exp(-x))"
   ]
  },
  {
   "cell_type": "code",
   "execution_count": 3,
   "id": "4733ffec-97e5-440a-b429-b0870728bbed",
   "metadata": {},
   "outputs": [],
   "source": [
    "# Gaussian Activation Function\n",
    "def gaussian(x, center, sigma=1):\n",
    "    return np.exp(-np.sum((x - center) ** 2) / (2 * (sigma ** 2)))"
   ]
  },
  {
   "cell_type": "code",
   "execution_count": 4,
   "id": "1d680df9-5fbb-4209-8c84-8f0ee1444083",
   "metadata": {},
   "outputs": [],
   "source": [
    "# Step 0: Initialize weights\n",
    "# Set to small random values\n",
    "def initialize_weights(input_size):\n",
    "    return np.random.randn(input_size + 1)"
   ]
  },
  {
   "cell_type": "code",
   "execution_count": 5,
   "id": "70e9d60c-5a0a-453c-a847-f9bc137537b1",
   "metadata": {},
   "outputs": [],
   "source": [
    "# Step 1: Select centers of the two RBF nodes from the given training samples\n",
    "def select_centers(X):\n",
    "    return X[np.random.choice(X.shape[0], 2, replace=False)]"
   ]
  },
  {
   "cell_type": "code",
   "execution_count": 6,
   "id": "10a34cfe-6147-4176-9b28-38f41eab4ded",
   "metadata": {},
   "outputs": [],
   "source": [
    "# Step 2: Define a pair of Gaussian functions for the two RBF nodes using centers t1 and t2 respectively\n",
    "def radial_basis_function(X, centers):\n",
    "    return np.array([[gaussian(x, center) for center in centers] for x in X])"
   ]
  },
  {
   "cell_type": "code",
   "execution_count": 7,
   "id": "8a58920d-fa45-4b00-acfe-3e218dc49a78",
   "metadata": {},
   "outputs": [],
   "source": [
    "# Step 4: Calculate the radial basis function value for the given input\n",
    "def calculate_rbf(X, centers):\n",
    "    return np.array([[gaussian(x, center) for center in centers] for x in X])"
   ]
  },
  {
   "cell_type": "code",
   "execution_count": 8,
   "id": "f2086edf-7f07-4c14-b5ca-7af2474c09a6",
   "metadata": {},
   "outputs": [],
   "source": [
    "# Step 8: Determine the Pseudo-inverse of matrix G\n",
    "def pseudo_inverse(G):\n",
    "    return np.linalg.pinv(G)"
   ]
  },
  {
   "cell_type": "code",
   "execution_count": 9,
   "id": "dd0a3454-6c21-489f-9ee0-6ab11fc90151",
   "metadata": {},
   "outputs": [],
   "source": [
    "# Step 9: Determine W\n",
    "def determine_weights(G_plus, D):\n",
    "    return np.dot(G_plus, D)"
   ]
  },
  {
   "cell_type": "code",
   "execution_count": 10,
   "id": "0ebf5765-e5cd-4e1d-b62d-7a482305efcb",
   "metadata": {},
   "outputs": [],
   "source": [
    "# Input values matrix\n",
    "X = np.array([[0, 0],\n",
    "              [0, 1],\n",
    "              [1, 0],\n",
    "              [1, 1]])\n",
    "\n",
    "# Target values\n",
    "D = np.array([[0, 1, 1, 0]])"
   ]
  },
  {
   "cell_type": "code",
   "execution_count": 11,
   "id": "40e96461-d96c-4d6d-967e-6780079fdf2c",
   "metadata": {},
   "outputs": [],
   "source": [
    "# Step 0: Initialize weights\n",
    "weights = initialize_weights(X.shape[1])\n",
    "\n",
    "# Step 1: Select centers of the two RBF nodes from the given training samples\n",
    "centers = select_centers(X)\n",
    "\n",
    "# Step 2: Define a pair of Gaussian functions for the two RBF nodes using centers t1 and t2 respectively\n",
    "# Step 4: Calculate the radial basis function value for the given input\n",
    "G = radial_basis_function(X, centers)\n",
    "\n",
    "# Step 7: Add bias to the output layer\n",
    "G = np.insert(G, G.shape[1], 1, axis=1)\n",
    "\n",
    "# Step 8: Determine the Pseudo-inverse of matrix G\n",
    "G_plus = pseudo_inverse(G)\n",
    "\n",
    "# Step 9: Determine W\n",
    "W = determine_weights(G_plus, D.T)"
   ]
  },
  {
   "cell_type": "code",
   "execution_count": 12,
   "id": "bd75c314-2e70-4004-b7ce-ca8c36f59b7c",
   "metadata": {},
   "outputs": [],
   "source": [
    "# Activation function using the weighted sum\n",
    "def activation_function(inputs, weights):\n",
    "    return sigmoid(np.dot(inputs, weights))\n",
    "\n",
    "# XOR function using the trained weights\n",
    "def XOR_gate(x1, x2, weights, centers):\n",
    "    inputs = np.array([x1, x2])\n",
    "    inputs = radial_basis_function(np.array([inputs]), centers)\n",
    "    inputs = np.insert(inputs, inputs.shape[1], 1)  # Add bias\n",
    "    return activation_function(inputs, weights)"
   ]
  },
  {
   "cell_type": "code",
   "execution_count": 13,
   "id": "765c4af0-61a8-46f6-815f-dc3f2ca87d54",
   "metadata": {},
   "outputs": [
    {
     "name": "stdout",
     "output_type": "stream",
     "text": [
      "Input (0, 0) -> Output: [0.5881143]\n",
      "Input (0, 1) -> Output: [0.60175093]\n",
      "Input (1, 0) -> Output: [0.6556175]\n",
      "Input (1, 1) -> Output: [0.64273025]\n"
     ]
    }
   ],
   "source": [
    "# Testing the XOR gate\n",
    "print(\"Input (0, 0) -> Output:\", XOR_gate(0, 0, W, centers))\n",
    "print(\"Input (0, 1) -> Output:\", XOR_gate(0, 1, W, centers))\n",
    "print(\"Input (1, 0) -> Output:\", XOR_gate(1, 0, W, centers))\n",
    "print(\"Input (1, 1) -> Output:\", XOR_gate(1, 1, W, centers))"
   ]
  },
  {
   "cell_type": "code",
   "execution_count": null,
   "id": "3b423330-ed69-46c9-af5e-f2d73bcb82ab",
   "metadata": {},
   "outputs": [],
   "source": []
  }
 ],
 "metadata": {
  "kernelspec": {
   "display_name": "Python 3 (ipykernel)",
   "language": "python",
   "name": "python3"
  },
  "language_info": {
   "codemirror_mode": {
    "name": "ipython",
    "version": 3
   },
   "file_extension": ".py",
   "mimetype": "text/x-python",
   "name": "python",
   "nbconvert_exporter": "python",
   "pygments_lexer": "ipython3",
   "version": "3.12.3"
  }
 },
 "nbformat": 4,
 "nbformat_minor": 5
}
