{
 "cells": [
  {
   "cell_type": "code",
   "execution_count": null,
   "id": "2ecba3aa-6f01-4726-87dc-1a0587748073",
   "metadata": {},
   "outputs": [],
   "source": []
  }
 ],
 "metadata": {
  "kernelspec": {
   "display_name": "",
   "name": ""
  },
  "language_info": {
   "name": ""
  }
 },
 "nbformat": 4,
 "nbformat_minor": 5
}
